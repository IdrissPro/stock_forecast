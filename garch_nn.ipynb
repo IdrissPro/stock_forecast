{
 "cells": [
  {
   "cell_type": "code",
   "execution_count": 32,
   "metadata": {},
   "outputs": [],
   "source": [
    "import tensorflow as tf\n",
    "import pandas as pd\n",
    "import yfinance as yf\n",
    "from sklearn.model_selection import train_test_split\n",
    "import numpy as np\n",
    "#from sklearn.pipeline import Pipeline\n",
    "from arch import arch_model"
   ]
  },
  {
   "cell_type": "code",
   "execution_count": 26,
   "metadata": {},
   "outputs": [],
   "source": [
    "def load_data(symbol=\"SPY\", start=\"1994-01-01\", end=\"2021-01-01\", interval='1d'):\n",
    "    df = yf.download(symbol, start=start, end=end, interval=interval)\n",
    "    df.reset_index(inplace=True)\n",
    "    return df\n",
    "\n",
    "def preprocess_data(df):\n",
    "    df = df[['Date', 'Close']]\n",
    "    df.dropna(inplace=True)\n",
    "    df['Date'] = pd.to_datetime(df['Date'])\n",
    "    df.set_index('Date', inplace=True)\n",
    "    return df\n",
    "\n",
    "def train_test(list_df, train_size=0.7, test_size=0.3):\n",
    "    result = []\n",
    "    for df in list_df:\n",
    "        X = df.index.values.reshape(-1, 1)  \n",
    "        y = df['Close'].values              \n",
    "\n",
    "        X_train, X_test, y_train, y_test = train_test_split(\n",
    "            X, y, train_size=train_size, test_size=test_size, shuffle=False\n",
    "        )\n",
    "        result.append([X_train, X_test, y_train, y_test])\n",
    "    return result\n",
    "\n",
    "def etl_pipeline(train_size=0.7, test_size=0.3):\n",
    "    gspc = load_data('^GSPC')\n",
    "    dji = load_data('^DJI')\n",
    "    nyse = load_data('^NYA')\n",
    "    \n",
    "    gspc_close = preprocess_data(gspc)\n",
    "    dji_close = preprocess_data(dji)\n",
    "    nyse_close = preprocess_data(nyse)\n",
    "\n",
    "    list_df_close = [gspc_close, dji_close, nyse_close]\n",
    "\n",
    "    splits = train_test(list_df_close, train_size=train_size, test_size=test_size)\n",
    "\n",
    "    return {\n",
    "        \"GSPC\": {\"X_train\": splits[0][0], \"X_test\": splits[0][1], \"y_train\": splits[0][2], \"y_test\": splits[0][3]},\n",
    "        \"DJI\":  {\"X_train\": splits[1][0], \"X_test\": splits[1][1], \"y_train\": splits[1][2], \"y_test\": splits[1][3]},\n",
    "        \"NYSE\": {\"X_train\": splits[2][0], \"X_test\": splits[2][1], \"y_train\": splits[2][2], \"y_test\": splits[2][3]},\n",
    "    }\n",
    "\n"
   ]
  },
  {
   "cell_type": "code",
   "execution_count": 16,
   "metadata": {},
   "outputs": [
    {
     "name": "stderr",
     "output_type": "stream",
     "text": [
      "[*********************100%***********************]  1 of 1 completed\n",
      "[*********************100%***********************]  1 of 1 completed\n",
      "[*********************100%***********************]  1 of 1 completed\n"
     ]
    }
   ],
   "source": [
    "gspc=load_data('^GSPC')\n",
    "dji=load_data('^DJI')\n",
    "nyse=load_data('^NYA')"
   ]
  },
  {
   "cell_type": "code",
   "execution_count": 20,
   "metadata": {},
   "outputs": [
    {
     "name": "stderr",
     "output_type": "stream",
     "text": [
      "C:\\Users\\idris\\AppData\\Local\\Temp\\ipykernel_20120\\3228835240.py:8: SettingWithCopyWarning: \n",
      "A value is trying to be set on a copy of a slice from a DataFrame\n",
      "\n",
      "See the caveats in the documentation: https://pandas.pydata.org/pandas-docs/stable/user_guide/indexing.html#returning-a-view-versus-a-copy\n",
      "  df.dropna(inplace=True)  # Remove any missing values\n",
      "C:\\Users\\idris\\AppData\\Local\\Temp\\ipykernel_20120\\3228835240.py:9: SettingWithCopyWarning: \n",
      "A value is trying to be set on a copy of a slice from a DataFrame.\n",
      "Try using .loc[row_indexer,col_indexer] = value instead\n",
      "\n",
      "See the caveats in the documentation: https://pandas.pydata.org/pandas-docs/stable/user_guide/indexing.html#returning-a-view-versus-a-copy\n",
      "  df['Date'] = pd.to_datetime(df['Date'])\n",
      "C:\\Users\\idris\\AppData\\Local\\Temp\\ipykernel_20120\\3228835240.py:8: SettingWithCopyWarning: \n",
      "A value is trying to be set on a copy of a slice from a DataFrame\n",
      "\n",
      "See the caveats in the documentation: https://pandas.pydata.org/pandas-docs/stable/user_guide/indexing.html#returning-a-view-versus-a-copy\n",
      "  df.dropna(inplace=True)  # Remove any missing values\n",
      "C:\\Users\\idris\\AppData\\Local\\Temp\\ipykernel_20120\\3228835240.py:9: SettingWithCopyWarning: \n",
      "A value is trying to be set on a copy of a slice from a DataFrame.\n",
      "Try using .loc[row_indexer,col_indexer] = value instead\n",
      "\n",
      "See the caveats in the documentation: https://pandas.pydata.org/pandas-docs/stable/user_guide/indexing.html#returning-a-view-versus-a-copy\n",
      "  df['Date'] = pd.to_datetime(df['Date'])\n",
      "C:\\Users\\idris\\AppData\\Local\\Temp\\ipykernel_20120\\3228835240.py:8: SettingWithCopyWarning: \n",
      "A value is trying to be set on a copy of a slice from a DataFrame\n",
      "\n",
      "See the caveats in the documentation: https://pandas.pydata.org/pandas-docs/stable/user_guide/indexing.html#returning-a-view-versus-a-copy\n",
      "  df.dropna(inplace=True)  # Remove any missing values\n",
      "C:\\Users\\idris\\AppData\\Local\\Temp\\ipykernel_20120\\3228835240.py:9: SettingWithCopyWarning: \n",
      "A value is trying to be set on a copy of a slice from a DataFrame.\n",
      "Try using .loc[row_indexer,col_indexer] = value instead\n",
      "\n",
      "See the caveats in the documentation: https://pandas.pydata.org/pandas-docs/stable/user_guide/indexing.html#returning-a-view-versus-a-copy\n",
      "  df['Date'] = pd.to_datetime(df['Date'])\n"
     ]
    }
   ],
   "source": [
    "gspc_close=preprocess_data(gspc)\n",
    "dji_close=preprocess_data(dji)\n",
    "nyse_close=preprocess_data(nyse)"
   ]
  },
  {
   "cell_type": "code",
   "execution_count": 21,
   "metadata": {},
   "outputs": [
    {
     "name": "stdout",
     "output_type": "stream",
     "text": [
      "Price             Close\n",
      "Ticker            ^GSPC\n",
      "Date                   \n",
      "1994-01-03   465.440002\n",
      "1994-01-04   466.890015\n",
      "1994-01-05   467.549988\n",
      "1994-01-06   467.119995\n",
      "1994-01-07   469.899994\n",
      "...                 ...\n",
      "2020-12-24  3703.060059\n",
      "2020-12-28  3735.360107\n",
      "2020-12-29  3727.040039\n",
      "2020-12-30  3732.040039\n",
      "2020-12-31  3756.070068\n",
      "\n",
      "[6799 rows x 1 columns]\n"
     ]
    }
   ],
   "source": [
    "print(gspc_close)"
   ]
  },
  {
   "cell_type": "code",
   "execution_count": 27,
   "metadata": {},
   "outputs": [
    {
     "name": "stderr",
     "output_type": "stream",
     "text": [
      "[*********************100%***********************]  1 of 1 completed\n",
      "[*********************100%***********************]  1 of 1 completed\n",
      "[*********************100%***********************]  1 of 1 completed\n",
      "C:\\Users\\idris\\AppData\\Local\\Temp\\ipykernel_20120\\3814708522.py:8: SettingWithCopyWarning: \n",
      "A value is trying to be set on a copy of a slice from a DataFrame\n",
      "\n",
      "See the caveats in the documentation: https://pandas.pydata.org/pandas-docs/stable/user_guide/indexing.html#returning-a-view-versus-a-copy\n",
      "  df.dropna(inplace=True)\n",
      "C:\\Users\\idris\\AppData\\Local\\Temp\\ipykernel_20120\\3814708522.py:9: SettingWithCopyWarning: \n",
      "A value is trying to be set on a copy of a slice from a DataFrame.\n",
      "Try using .loc[row_indexer,col_indexer] = value instead\n",
      "\n",
      "See the caveats in the documentation: https://pandas.pydata.org/pandas-docs/stable/user_guide/indexing.html#returning-a-view-versus-a-copy\n",
      "  df['Date'] = pd.to_datetime(df['Date'])\n",
      "C:\\Users\\idris\\AppData\\Local\\Temp\\ipykernel_20120\\3814708522.py:8: SettingWithCopyWarning: \n",
      "A value is trying to be set on a copy of a slice from a DataFrame\n",
      "\n",
      "See the caveats in the documentation: https://pandas.pydata.org/pandas-docs/stable/user_guide/indexing.html#returning-a-view-versus-a-copy\n",
      "  df.dropna(inplace=True)\n",
      "C:\\Users\\idris\\AppData\\Local\\Temp\\ipykernel_20120\\3814708522.py:9: SettingWithCopyWarning: \n",
      "A value is trying to be set on a copy of a slice from a DataFrame.\n",
      "Try using .loc[row_indexer,col_indexer] = value instead\n",
      "\n",
      "See the caveats in the documentation: https://pandas.pydata.org/pandas-docs/stable/user_guide/indexing.html#returning-a-view-versus-a-copy\n",
      "  df['Date'] = pd.to_datetime(df['Date'])\n",
      "C:\\Users\\idris\\AppData\\Local\\Temp\\ipykernel_20120\\3814708522.py:8: SettingWithCopyWarning: \n",
      "A value is trying to be set on a copy of a slice from a DataFrame\n",
      "\n",
      "See the caveats in the documentation: https://pandas.pydata.org/pandas-docs/stable/user_guide/indexing.html#returning-a-view-versus-a-copy\n",
      "  df.dropna(inplace=True)\n",
      "C:\\Users\\idris\\AppData\\Local\\Temp\\ipykernel_20120\\3814708522.py:9: SettingWithCopyWarning: \n",
      "A value is trying to be set on a copy of a slice from a DataFrame.\n",
      "Try using .loc[row_indexer,col_indexer] = value instead\n",
      "\n",
      "See the caveats in the documentation: https://pandas.pydata.org/pandas-docs/stable/user_guide/indexing.html#returning-a-view-versus-a-copy\n",
      "  df['Date'] = pd.to_datetime(df['Date'])\n"
     ]
    }
   ],
   "source": [
    "# Run the ETL pipeline\n",
    "result = etl_pipeline()\n",
    "\n",
    "# Assign GSPC values\n",
    "X_gspc_train = result[\"GSPC\"][\"X_train\"]\n",
    "X_gspc_test  = result[\"GSPC\"][\"X_test\"]\n",
    "y_gspc_train = result[\"GSPC\"][\"y_train\"]\n",
    "y_gspc_test  = result[\"GSPC\"][\"y_test\"]\n",
    "\n",
    "# Assign DJI values\n",
    "X_dji_train = result[\"DJI\"][\"X_train\"]\n",
    "X_dji_test  = result[\"DJI\"][\"X_test\"]\n",
    "y_dji_train = result[\"DJI\"][\"y_train\"]\n",
    "y_dji_test  = result[\"DJI\"][\"y_test\"]\n",
    "\n",
    "# Assign NYSE values\n",
    "X_nyse_train = result[\"NYSE\"][\"X_train\"]\n",
    "X_nyse_test  = result[\"NYSE\"][\"X_test\"]\n",
    "y_nyse_train = result[\"NYSE\"][\"y_train\"]\n",
    "y_nyse_test  = result[\"NYSE\"][\"y_test\"]\n"
   ]
  },
  {
   "cell_type": "code",
   "execution_count": 31,
   "metadata": {},
   "outputs": [
    {
     "name": "stdout",
     "output_type": "stream",
     "text": [
      "[['1994-01-03T00:00:00.000000000']\n",
      " ['1994-01-04T00:00:00.000000000']\n",
      " ['1994-01-05T00:00:00.000000000']\n",
      " ...\n",
      " ['2012-11-20T00:00:00.000000000']\n",
      " ['2012-11-21T00:00:00.000000000']\n",
      " ['2012-11-23T00:00:00.000000000']]\n"
     ]
    }
   ],
   "source": [
    "print(X_dji_train)"
   ]
  },
  {
   "cell_type": "code",
   "execution_count": null,
   "metadata": {},
   "outputs": [],
   "source": [
    "\n",
    "# Function to calculate log returns\n",
    "def calculate_log_returns(prices):\n",
    "    return np.log(prices / prices.shift(1)).dropna()\n",
    "\n",
    "# Function to predict average and volatility using GARCH(1,1)\n",
    "def garch_predictions(prices, forecast_horizon=1):\n",
    "    # Calculate daily log returns for the past 90 days\n",
    "    log_returns = calculate_log_returns(prices).tail(90)\n",
    "    \n",
    "    # Fit the GARCH(1,1) model with constant mean\n",
    "    model = arch_model(log_returns, mean='constant', vol='GARCH', p=1, q=1)\n",
    "    model_fit = model.fit(disp='off')\n",
    "\n",
    "    # Forecast the next 'forecast_horizon' days\n",
    "    forecast = model_fit.forecast(horizon=forecast_horizon)\n",
    "    \n",
    "    # Extract average (mean) and volatility (variance) forecast\n",
    "    predicted_mean = forecast.mean.iloc[-1].values[0]\n",
    "    predicted_volatility = np.sqrt(forecast.variance.iloc[-1].values[0])  # Convert variance to standard deviation\n",
    "    \n",
    "    return predicted_mean, predicted_volatility\n",
    "\n"
   ]
  },
  {
   "cell_type": "code",
   "execution_count": null,
   "metadata": {},
   "outputs": [],
   "source": []
  }
 ],
 "metadata": {
  "kernelspec": {
   "display_name": "tensorflow_env",
   "language": "python",
   "name": "python3"
  },
  "language_info": {
   "codemirror_mode": {
    "name": "ipython",
    "version": 3
   },
   "file_extension": ".py",
   "mimetype": "text/x-python",
   "name": "python",
   "nbconvert_exporter": "python",
   "pygments_lexer": "ipython3",
   "version": "3.10.12"
  }
 },
 "nbformat": 4,
 "nbformat_minor": 2
}
